{
 "cells": [
  {
   "cell_type": "code",
   "execution_count": 1,
   "metadata": {},
   "outputs": [],
   "source": [
    "import numpy as np\n",
    "import pandas as pd\n",
    "%config IPCompleter.greedy=True\n",
    "import matplotlib\n",
    "import matplotlib.pyplot as plt\n",
    "matplotlib.style.use('ggplot')\n",
    "%matplotlib inline"
   ]
  },
  {
   "cell_type": "markdown",
   "metadata": {},
   "source": [
    "## Создание csv с данными о типах блюд в чеках по дням"
   ]
  },
  {
   "cell_type": "markdown",
   "metadata": {},
   "source": [
    "#### Загрузим тренировочные данные"
   ]
  },
  {
   "cell_type": "code",
   "execution_count": 2,
   "metadata": {
    "scrolled": true
   },
   "outputs": [
    {
     "name": "stdout",
     "output_type": "stream",
     "text": [
      "<class 'pandas.core.frame.DataFrame'>\n",
      "RangeIndex: 919985 entries, 0 to 919984\n",
      "Data columns (total 6 columns):\n",
      "chknum       919985 non-null object\n",
      "person_id    919985 non-null int64\n",
      "month        919985 non-null int64\n",
      "day          919985 non-null int64\n",
      "good         919985 non-null object\n",
      "good_id      919985 non-null int64\n",
      "dtypes: int64(4), object(2)\n",
      "memory usage: 42.1+ MB\n"
     ]
    }
   ],
   "source": [
    "train = pd.read_csv('data/train.csv')\n",
    "train.info()"
   ]
  },
  {
   "cell_type": "code",
   "execution_count": 3,
   "metadata": {},
   "outputs": [
    {
     "data": {
      "text/html": [
       "<div>\n",
       "<style scoped>\n",
       "    .dataframe tbody tr th:only-of-type {\n",
       "        vertical-align: middle;\n",
       "    }\n",
       "\n",
       "    .dataframe tbody tr th {\n",
       "        vertical-align: top;\n",
       "    }\n",
       "\n",
       "    .dataframe thead th {\n",
       "        text-align: right;\n",
       "    }\n",
       "</style>\n",
       "<table border=\"1\" class=\"dataframe\">\n",
       "  <thead>\n",
       "    <tr style=\"text-align: right;\">\n",
       "      <th></th>\n",
       "      <th>chknum</th>\n",
       "      <th>person_id</th>\n",
       "      <th>month</th>\n",
       "      <th>day</th>\n",
       "      <th>good</th>\n",
       "      <th>good_id</th>\n",
       "    </tr>\n",
       "  </thead>\n",
       "  <tbody>\n",
       "    <tr>\n",
       "      <th>0</th>\n",
       "      <td>id0</td>\n",
       "      <td>1</td>\n",
       "      <td>1</td>\n",
       "      <td>17</td>\n",
       "      <td>Грибовница со взбитыми яйцами 250гр</td>\n",
       "      <td>12</td>\n",
       "    </tr>\n",
       "    <tr>\n",
       "      <th>1</th>\n",
       "      <td>id0</td>\n",
       "      <td>1</td>\n",
       "      <td>1</td>\n",
       "      <td>17</td>\n",
       "      <td>Булочка с сыром 60гр</td>\n",
       "      <td>13</td>\n",
       "    </tr>\n",
       "    <tr>\n",
       "      <th>2</th>\n",
       "      <td>id0</td>\n",
       "      <td>1</td>\n",
       "      <td>1</td>\n",
       "      <td>17</td>\n",
       "      <td>Салат бар 1кг</td>\n",
       "      <td>8</td>\n",
       "    </tr>\n",
       "    <tr>\n",
       "      <th>3</th>\n",
       "      <td>id0</td>\n",
       "      <td>1</td>\n",
       "      <td>1</td>\n",
       "      <td>17</td>\n",
       "      <td>С-т из огур/помидор/перец/масло 120гр</td>\n",
       "      <td>124</td>\n",
       "    </tr>\n",
       "    <tr>\n",
       "      <th>4</th>\n",
       "      <td>id1</td>\n",
       "      <td>626</td>\n",
       "      <td>1</td>\n",
       "      <td>17</td>\n",
       "      <td>Индейка/грибы/сыр 80/20гр</td>\n",
       "      <td>181</td>\n",
       "    </tr>\n",
       "  </tbody>\n",
       "</table>\n",
       "</div>"
      ],
      "text/plain": [
       "  chknum  person_id  month  day                                   good  \\\n",
       "0    id0          1      1   17    Грибовница со взбитыми яйцами 250гр   \n",
       "1    id0          1      1   17                   Булочка с сыром 60гр   \n",
       "2    id0          1      1   17                          Салат бар 1кг   \n",
       "3    id0          1      1   17  С-т из огур/помидор/перец/масло 120гр   \n",
       "4    id1        626      1   17              Индейка/грибы/сыр 80/20гр   \n",
       "\n",
       "   good_id  \n",
       "0       12  \n",
       "1       13  \n",
       "2        8  \n",
       "3      124  \n",
       "4      181  "
      ]
     },
     "execution_count": 3,
     "metadata": {},
     "output_type": "execute_result"
    }
   ],
   "source": [
    "train.head()"
   ]
  },
  {
   "cell_type": "markdown",
   "metadata": {},
   "source": [
    "#### Меню\n",
    "\n",
    "Загрузим наше меню"
   ]
  },
  {
   "cell_type": "code",
   "execution_count": 4,
   "metadata": {
    "scrolled": true
   },
   "outputs": [],
   "source": [
    "menu_file = pd.read_csv('data/menu_tagged.csv')"
   ]
  },
  {
   "cell_type": "code",
   "execution_count": 5,
   "metadata": {},
   "outputs": [
    {
     "data": {
      "text/plain": [
       "Index(['good_id', 'good', 'first_course', 'main_course', 'drink', 'bakery',\n",
       "       'dessert', 'snacks', 'salad', 'meat&fish', 'fried', 'sweet', 'salty',\n",
       "       'spicy', 'sour', 'lenten', 'meat', 'seafoods', 'pepper', 'mushrooms',\n",
       "       'vegetables', 'fruits', 'milk', 'croups', 'eggs', 'pasta', 'flour',\n",
       "       'onion_or_garlic', 'other'],\n",
       "      dtype='object')"
      ]
     },
     "execution_count": 5,
     "metadata": {},
     "output_type": "execute_result"
    }
   ],
   "source": [
    "menu_file.columns"
   ]
  },
  {
   "cell_type": "markdown",
   "metadata": {},
   "source": [
    "Сделаем доступным обращение к данным о типах блюда по его id"
   ]
  },
  {
   "cell_type": "code",
   "execution_count": 6,
   "metadata": {},
   "outputs": [
    {
     "name": "stdout",
     "output_type": "stream",
     "text": [
      "[0, 1, 0, 0, 0, 0, 0, 0]\n"
     ]
    }
   ],
   "source": [
    "menu = {}\n",
    "for row in menu_file.values:\n",
    "    menu[int(row[0])] = list(map(int, row[2:10]))\n",
    "print(menu[1])"
   ]
  },
  {
   "cell_type": "markdown",
   "metadata": {},
   "source": [
    "Можно представить наши данные о людях в виде такой вложенной структуры (можно ввести классы Date, Person, Check)"
   ]
  },
  {
   "cell_type": "code",
   "execution_count": 7,
   "metadata": {
    "scrolled": true
   },
   "outputs": [
    {
     "name": "stdout",
     "output_type": "stream",
     "text": [
      "[('Грибовница со взбитыми яйцами 250гр', 12), ('Булочка с сыром 60гр', 13), ('Салат бар 1кг', 8), ('С-т из огур/помидор/перец/масло 120гр', 124)]\n"
     ]
    }
   ],
   "source": [
    "# chknum person_id month day good good_id\n",
    "# dates: dict of dicts of checks and persons with lists of goods\n",
    "dates = {}\n",
    "for row in train.values:\n",
    "    chknum, person_id, month, day, good, good_id = row\n",
    "    current_date = (month, day)\n",
    "    dates.setdefault(current_date, dict()).setdefault(chknum, (person_id, list()))[1].append((good, good_id))\n",
    "# dates[(month, day)]['chk_id'][1] - list of goods\n",
    "# dates[(month, day)]['chk_id'][0] - person_id\n",
    "print(dates[(1, 17)]['id0'][1])"
   ]
  },
  {
   "cell_type": "markdown",
   "metadata": {},
   "source": [
    "Далее можно собрать статистику во вложенную структуру"
   ]
  },
  {
   "cell_type": "code",
   "execution_count": 8,
   "metadata": {},
   "outputs": [],
   "source": [
    "# stats: dict of lists  representing (person, types_counts_list) by date\n",
    "stats = {}\n",
    "for date, date_val in dates.items():\n",
    "    onday = []\n",
    "    for chk in date_val.values():\n",
    "        buy = (chk[0], [0] * 8)\n",
    "        for good in chk[1]:\n",
    "            for i in range(8):\n",
    "                buy[1][i] += menu[good[1]][i]\n",
    "        onday.append(buy)\n",
    "    stats[date] = onday\n",
    "\n",
    "# print(stats[(1, 17)])"
   ]
  },
  {
   "cell_type": "markdown",
   "metadata": {},
   "source": [
    "Или же в виде таблицы"
   ]
  },
  {
   "cell_type": "code",
   "execution_count": 9,
   "metadata": {},
   "outputs": [
    {
     "data": {
      "text/html": [
       "<div>\n",
       "<style scoped>\n",
       "    .dataframe tbody tr th:only-of-type {\n",
       "        vertical-align: middle;\n",
       "    }\n",
       "\n",
       "    .dataframe tbody tr th {\n",
       "        vertical-align: top;\n",
       "    }\n",
       "\n",
       "    .dataframe thead th {\n",
       "        text-align: right;\n",
       "    }\n",
       "</style>\n",
       "<table border=\"1\" class=\"dataframe\">\n",
       "  <thead>\n",
       "    <tr style=\"text-align: right;\">\n",
       "      <th></th>\n",
       "      <th>month</th>\n",
       "      <th>day</th>\n",
       "      <th>chknum</th>\n",
       "      <th>person_id</th>\n",
       "      <th>first_course</th>\n",
       "      <th>main_course</th>\n",
       "      <th>drink</th>\n",
       "      <th>bakery</th>\n",
       "      <th>dessert</th>\n",
       "      <th>snacks</th>\n",
       "      <th>salad</th>\n",
       "      <th>meat&amp;fish</th>\n",
       "    </tr>\n",
       "  </thead>\n",
       "  <tbody>\n",
       "    <tr>\n",
       "      <th>0</th>\n",
       "      <td>1</td>\n",
       "      <td>17</td>\n",
       "      <td>id0</td>\n",
       "      <td>1</td>\n",
       "      <td>1</td>\n",
       "      <td>0</td>\n",
       "      <td>0</td>\n",
       "      <td>1</td>\n",
       "      <td>0</td>\n",
       "      <td>0</td>\n",
       "      <td>2</td>\n",
       "      <td>0</td>\n",
       "    </tr>\n",
       "    <tr>\n",
       "      <th>1</th>\n",
       "      <td>1</td>\n",
       "      <td>17</td>\n",
       "      <td>id1</td>\n",
       "      <td>626</td>\n",
       "      <td>0</td>\n",
       "      <td>1</td>\n",
       "      <td>1</td>\n",
       "      <td>0</td>\n",
       "      <td>0</td>\n",
       "      <td>0</td>\n",
       "      <td>2</td>\n",
       "      <td>1</td>\n",
       "    </tr>\n",
       "    <tr>\n",
       "      <th>2</th>\n",
       "      <td>1</td>\n",
       "      <td>17</td>\n",
       "      <td>id2</td>\n",
       "      <td>1438</td>\n",
       "      <td>0</td>\n",
       "      <td>1</td>\n",
       "      <td>1</td>\n",
       "      <td>0</td>\n",
       "      <td>0</td>\n",
       "      <td>0</td>\n",
       "      <td>2</td>\n",
       "      <td>1</td>\n",
       "    </tr>\n",
       "    <tr>\n",
       "      <th>3</th>\n",
       "      <td>1</td>\n",
       "      <td>17</td>\n",
       "      <td>id3</td>\n",
       "      <td>190</td>\n",
       "      <td>1</td>\n",
       "      <td>1</td>\n",
       "      <td>1</td>\n",
       "      <td>0</td>\n",
       "      <td>0</td>\n",
       "      <td>3</td>\n",
       "      <td>1</td>\n",
       "      <td>1</td>\n",
       "    </tr>\n",
       "    <tr>\n",
       "      <th>4</th>\n",
       "      <td>1</td>\n",
       "      <td>17</td>\n",
       "      <td>id4</td>\n",
       "      <td>139</td>\n",
       "      <td>0</td>\n",
       "      <td>1</td>\n",
       "      <td>1</td>\n",
       "      <td>0</td>\n",
       "      <td>0</td>\n",
       "      <td>0</td>\n",
       "      <td>1</td>\n",
       "      <td>1</td>\n",
       "    </tr>\n",
       "  </tbody>\n",
       "</table>\n",
       "</div>"
      ],
      "text/plain": [
       "   month  day chknum  person_id  first_course  main_course  drink  bakery  \\\n",
       "0      1   17    id0          1             1            0      0       1   \n",
       "1      1   17    id1        626             0            1      1       0   \n",
       "2      1   17    id2       1438             0            1      1       0   \n",
       "3      1   17    id3        190             1            1      1       0   \n",
       "4      1   17    id4        139             0            1      1       0   \n",
       "\n",
       "   dessert  snacks  salad  meat&fish  \n",
       "0        0       0      2          0  \n",
       "1        0       0      2          1  \n",
       "2        0       0      2          1  \n",
       "3        0       3      1          1  \n",
       "4        0       0      1          1  "
      ]
     },
     "execution_count": 9,
     "metadata": {},
     "output_type": "execute_result"
    }
   ],
   "source": [
    "columns = ['month', 'day', 'chknum', 'person_id', 'first_course', 'main_course', 'drink', 'bakery', 'dessert', 'snacks', 'salad', 'meat&fish']\n",
    "\n",
    "data_for_pd = []\n",
    "for date, date_val in dates.items():\n",
    "    for chknum, chk in date_val.items():\n",
    "        buy = [0] * 8\n",
    "        for good in chk[1]:\n",
    "            for i in range(8):\n",
    "                buy[i] += menu[good[1]][i]\n",
    "        data_for_pd.append([date[0], date[1], chknum, chk[0], *buy])\n",
    "\n",
    "df = pd.DataFrame(data_for_pd, columns=columns)\n",
    "df.head()"
   ]
  },
  {
   "cell_type": "code",
   "execution_count": 10,
   "metadata": {},
   "outputs": [],
   "source": [
    "df.to_csv('stats/goods_types_by_day_and_chk.csv', index=False)"
   ]
  },
  {
   "cell_type": "markdown",
   "metadata": {},
   "source": [
    "## Анализ"
   ]
  },
  {
   "cell_type": "code",
   "execution_count": null,
   "metadata": {},
   "outputs": [],
   "source": []
  }
 ],
 "metadata": {
  "kernelspec": {
   "display_name": "Python 3",
   "language": "python",
   "name": "python3"
  },
  "language_info": {
   "codemirror_mode": {
    "name": "ipython",
    "version": 3
   },
   "file_extension": ".py",
   "mimetype": "text/x-python",
   "name": "python",
   "nbconvert_exporter": "python",
   "pygments_lexer": "ipython3",
   "version": "3.7.2"
  }
 },
 "nbformat": 4,
 "nbformat_minor": 2
}
